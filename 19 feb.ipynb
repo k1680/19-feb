{
 "cells": [
  {
   "cell_type": "code",
   "execution_count": 1,
   "id": "f071dcf5-2462-42e1-a9a6-539f411c0ad6",
   "metadata": {},
   "outputs": [
    {
     "data": {
      "text/plain": [
       "'Q1. What is Flask Framework? What are the advantages of Flask Framework?\\n\\n    Ans: Flask is a popular web application framework written in Python that provides a simple and flexible way to build \\n         web applications. It is lightweight and easy to learn, making it a popular choice for beginners and experienced \\n         developers alike. \\n         Some advantages of using Flask include its simplicity, flexibility, and scalability. Flask allows developers to \\n         quickly build web applications without getting bogged down by complex features, while still being powerful enough \\n         to handle larger and more complex projects. Its modular design also allows developers to add and remove features \\n         as needed, making it highly customizable. Overall, Flask is a great choice for building web applications quickly \\n         and efficiently.\\n'"
      ]
     },
     "execution_count": 1,
     "metadata": {},
     "output_type": "execute_result"
    }
   ],
   "source": [
    "\"\"\"Q1. What is Flask Framework? What are the advantages of Flask Framework?\n",
    "\n",
    "    Ans: Flask is a popular web application framework written in Python that provides a simple and flexible way to build \n",
    "         web applications. It is lightweight and easy to learn, making it a popular choice for beginners and experienced \n",
    "         developers alike. \n",
    "         Some advantages of using Flask include its simplicity, flexibility, and scalability. Flask allows developers to \n",
    "         quickly build web applications without getting bogged down by complex features, while still being powerful enough \n",
    "         to handle larger and more complex projects. Its modular design also allows developers to add and remove features \n",
    "         as needed, making it highly customizable. Overall, Flask is a great choice for building web applications quickly \n",
    "         and efficiently.\n",
    "\"\"\""
   ]
  },
  {
   "cell_type": "code",
   "execution_count": 2,
   "id": "d6b3e3b4-a4ec-4c4d-94c1-02bab6b6825a",
   "metadata": {},
   "outputs": [
    {
     "name": "stdout",
     "output_type": "stream",
     "text": [
      "Collecting flask\n",
      "  Downloading flask-3.0.2-py3-none-any.whl (101 kB)\n",
      "\u001b[2K     \u001b[90m━━━━━━━━━━━━━━━━━━━━━━━━━━━━━━━━━━━━━━━\u001b[0m \u001b[32m101.3/101.3 kB\u001b[0m \u001b[31m3.7 MB/s\u001b[0m eta \u001b[36m0:00:00\u001b[0m\n",
      "\u001b[?25hCollecting itsdangerous>=2.1.2\n",
      "  Downloading itsdangerous-2.1.2-py3-none-any.whl (15 kB)\n",
      "Collecting Werkzeug>=3.0.0\n",
      "  Downloading werkzeug-3.0.1-py3-none-any.whl (226 kB)\n",
      "\u001b[2K     \u001b[90m━━━━━━━━━━━━━━━━━━━━━━━━━━━━━━━━━━━━━━\u001b[0m \u001b[32m226.7/226.7 kB\u001b[0m \u001b[31m24.9 MB/s\u001b[0m eta \u001b[36m0:00:00\u001b[0m\n",
      "\u001b[?25hRequirement already satisfied: Jinja2>=3.1.2 in /opt/conda/lib/python3.10/site-packages (from flask) (3.1.2)\n",
      "Collecting blinker>=1.6.2\n",
      "  Downloading blinker-1.7.0-py3-none-any.whl (13 kB)\n",
      "Requirement already satisfied: click>=8.1.3 in /opt/conda/lib/python3.10/site-packages (from flask) (8.1.3)\n",
      "Requirement already satisfied: MarkupSafe>=2.0 in /opt/conda/lib/python3.10/site-packages (from Jinja2>=3.1.2->flask) (2.1.1)\n",
      "Installing collected packages: Werkzeug, itsdangerous, blinker, flask\n",
      "  Attempting uninstall: blinker\n",
      "    Found existing installation: blinker 1.5\n",
      "    Uninstalling blinker-1.5:\n",
      "      Successfully uninstalled blinker-1.5\n",
      "Successfully installed Werkzeug-3.0.1 blinker-1.7.0 flask-3.0.2 itsdangerous-2.1.2\n"
     ]
    }
   ],
   "source": [
    "!pip install flask"
   ]
  },
  {
   "cell_type": "code",
   "execution_count": 3,
   "id": "6d9ee0ab-7171-4af6-b296-c0c79051dd8e",
   "metadata": {},
   "outputs": [
    {
     "name": "stdout",
     "output_type": "stream",
     "text": [
      " * Serving Flask app '__main__'\n",
      " * Debug mode: off\n"
     ]
    },
    {
     "name": "stderr",
     "output_type": "stream",
     "text": [
      "WARNING: This is a development server. Do not use it in a production deployment. Use a production WSGI server instead.\n",
      " * Running on all addresses (0.0.0.0)\n",
      " * Running on http://127.0.0.1:5000\n",
      " * Running on http://172.18.0.11:5000\n",
      "Press CTRL+C to quit\n",
      "172.18.0.2 - - [15/Feb/2024 10:20:33] \"GET / HTTP/1.1\" 200 -\n",
      "172.18.0.2 - - [15/Feb/2024 10:20:34] \"GET /favicon.ico HTTP/1.1\" 404 -\n"
     ]
    }
   ],
   "source": [
    "\"\"\"Q2. Create a simple Flask application to display ‘Hello World!!’. Attach the screenshot of the output in Jupyter Notebook.\"\"\"\n",
    "# Ans:\n",
    "\n",
    "# Website code:\n",
    "from flask import Flask\n",
    "app = Flask(__name__)\n",
    "@app.route(\"/\")\n",
    "def hello_world():\n",
    "    return \"<h1>Hello, World!</h1>\"\n",
    "if __name__==\"__main__\":\n",
    "    app.run(host=\"0.0.0.0\")\n",
    "    \n",
    "# Image:\n",
    "from IPython.display import Image\n",
    "Image(url=\"19 feb assignment.PNG\", width=300, height=300)"
   ]
  },
  {
   "cell_type": "code",
   "execution_count": 4,
   "id": "febd8e14-b6ae-458d-b8c1-b7d79c634a8b",
   "metadata": {},
   "outputs": [
    {
     "data": {
      "text/html": [
       "<img src=\"19 feb assignment.PNG\" width=\"300\" height=\"300\"/>"
      ],
      "text/plain": [
       "<IPython.core.display.Image object>"
      ]
     },
     "execution_count": 4,
     "metadata": {},
     "output_type": "execute_result"
    }
   ],
   "source": [
    "# Image:\n",
    "from IPython.display import Image\n",
    "Image(url=\"19 feb assignment.PNG\", width=300, height=300)"
   ]
  },
  {
   "cell_type": "code",
   "execution_count": 5,
   "id": "f9c0f08e-70ee-4ccf-b5e3-ca36a7160647",
   "metadata": {},
   "outputs": [
    {
     "data": {
      "text/plain": [
       "'Q3. What is App routing in Flask? Why do we use app routes?\\n\\n    Ans: App routing in Flask refers to the process of mapping URLs (Uniform Resource Locators) to specific functions in your \\n         web application. Essentially, it allows you to define which function will be executed when a user navigates to a \\n         specific URL on your website. \\n         We use app routes to create dynamic and interactive web applications. For example, when a user navigates to a specific URL, \\n         we can use Flask to execute a function that retrieves data from a database, processes it, and returns the results to the \\n         user in the form of a webpage. This allows us to create customized web applications that can respond to user inputs in \\n         real-time.\\n\\n'"
      ]
     },
     "execution_count": 5,
     "metadata": {},
     "output_type": "execute_result"
    }
   ],
   "source": [
    "\"\"\"Q3. What is App routing in Flask? Why do we use app routes?\n",
    "\n",
    "    Ans: App routing in Flask refers to the process of mapping URLs (Uniform Resource Locators) to specific functions in your \n",
    "         web application. Essentially, it allows you to define which function will be executed when a user navigates to a \n",
    "         specific URL on your website. \n",
    "         We use app routes to create dynamic and interactive web applications. For example, when a user navigates to a specific URL, \n",
    "         we can use Flask to execute a function that retrieves data from a database, processes it, and returns the results to the \n",
    "         user in the form of a webpage. This allows us to create customized web applications that can respond to user inputs in \n",
    "         real-time.\n",
    "\n",
    "\"\"\""
   ]
  },
  {
   "cell_type": "code",
   "execution_count": 16,
   "id": "9070de2a-1459-4fd2-9671-05e9e863a39e",
   "metadata": {},
   "outputs": [
    {
     "name": "stdout",
     "output_type": "stream",
     "text": [
      " * Serving Flask app '__main__'\n",
      " * Debug mode: off\n"
     ]
    },
    {
     "name": "stderr",
     "output_type": "stream",
     "text": [
      "WARNING: This is a development server. Do not use it in a production deployment. Use a production WSGI server instead.\n",
      " * Running on all addresses (0.0.0.0)\n",
      " * Running on http://127.0.0.1:5000\n",
      " * Running on http://172.18.0.17:5000\n",
      "Press CTRL+C to quit\n"
     ]
    },
    {
     "data": {
      "text/html": [
       "<img src=\"19 feb assignment Q4_1.PNG\" width=\"300\" height=\"300\"/>"
      ],
      "text/plain": [
       "<IPython.core.display.Image object>"
      ]
     },
     "execution_count": 16,
     "metadata": {},
     "output_type": "execute_result"
    }
   ],
   "source": [
    "\"\"\"Q4. Create a “/welcome” route to display the welcome message “Welcome to ABC Corporation” and a “/”\n",
    "        route to show the following details:\n",
    "            Company Name: ABC Corporation\n",
    "            Location: India\n",
    "            Contact Detail: 999-999-9999\n",
    "        Attach the screenshot of the output in Jupyter Notebook.\n",
    "\"\"\"\n",
    "#Ans:\n",
    "#Website:\n",
    "# Website code:\n",
    "\n",
    "from flask import Flask\n",
    "\n",
    "app = Flask(__name__)\n",
    "\n",
    "@app.route(\"/\")\n",
    "def company_details():\n",
    "    return \"<h1>Company Name: ABC Corporation\\nLocation: India\\nContact Detail: 999-999-9999</h1>\"\n",
    "\n",
    "@app.route(\"/welcome\")\n",
    "def hello_world():\n",
    "    return \"<h1>Welcome to ABC Corporation</h1>\"\n",
    "\n",
    "if __name__==\"__main__\":\n",
    "    app.run(host=\"0.0.0.0\")\n",
    "    \n",
    "# Image:\n",
    "from IPython.display import Image\n",
    "Image(url=\"19 feb assignment Q4_1.PNG\", width=300, height=300)\n",
    "#Image(url=\"19 feb assignment Q4_2.PNG\", width=300, height=300)"
   ]
  },
  {
   "cell_type": "code",
   "execution_count": null,
   "id": "d7311f9c-dd77-402a-bd59-8127f2ea15eb",
   "metadata": {},
   "outputs": [],
   "source": []
  }
 ],
 "metadata": {
  "kernelspec": {
   "display_name": "Python 3 (ipykernel)",
   "language": "python",
   "name": "python3"
  },
  "language_info": {
   "codemirror_mode": {
    "name": "ipython",
    "version": 3
   },
   "file_extension": ".py",
   "mimetype": "text/x-python",
   "name": "python",
   "nbconvert_exporter": "python",
   "pygments_lexer": "ipython3",
   "version": "3.10.8"
  }
 },
 "nbformat": 4,
 "nbformat_minor": 5
}
